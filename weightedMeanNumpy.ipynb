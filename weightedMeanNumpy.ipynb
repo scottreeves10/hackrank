{
 "cells": [
  {
   "cell_type": "markdown",
   "metadata": {},
   "source": [
    "# Mean, Median, and Mode - Manually\n",
    "\n",
    "## Task\n",
    "\n",
    "Given an array, X, of N integers and an array, W, representing the respective weights of X's elements, calculate and print the weighted mean of X's elements. The answer should be rounded to a scale of 1 decimal place (i.e., 12.3 format).\n",
    "\n",
    "## Input Format\n",
    "\n",
    "The first line contains an integer, N, denoting the number of elements in arrays X and W. \n",
    "The second line contains N space-separated integers describing the respective elements of array X. \n",
    "The third line contains N space-separated integers describing the respective elements of array W.\n",
    "\n",
    "## Constraints\n",
    "\n",
    "- N greater than or equal to 5, and less than or equal to 50\n",
    "- Respective elements of X greater than 0, and less than or equal to 100\n",
    "- Respective elements of W greater than 0, and less than or equal to 100\n",
    "\n",
    "## Output Format\n",
    "\n",
    "Print the weighted mean on a new line. The answer should be rounded to a scale of  decimal place (i.e., 12.3 format).\n",
    "\n",
    "## Sample input\n",
    "5\n",
    "\n",
    "10 40 30 50 20\n",
    "\n",
    "1 2 3 4 5\n",
    "\n",
    "\n",
    "## Sample Output\n",
    "32.0\n",
    "\n",
    "#### Weighted Mean\n",
    "The result of the summation of each data value times its weight, divided by the result of the summation of the weights themselves."
   ]
  },
  {
   "cell_type": "code",
   "execution_count": 4,
   "metadata": {
    "collapsed": true
   },
   "outputs": [],
   "source": [
    "# imports\n",
    "# -------\n",
    "import numpy as np\n",
    "\n",
    "# inputs\n",
    "# ------\n",
    "\n",
    "N = int(input()) # synonymous with both len(X) and len(W)\n",
    "X = np.array(list(map(int,input().split())))\n",
    "W = np.array(list(map(int, input().split())))\n",
    "\n",
    "sum_of_dotProductXW_results = sum(X*W)\n",
    "sum_of_weights = sum(W)\n",
    "weighted_mean = sum_of_dotProductXW_results / sum_of_weights\n",
    "\n",
    "# output\n",
    "print(\"%.1f\" % weighted_mean)"
   ]
  }
 ],
 "metadata": {
  "kernelspec": {
   "display_name": "Python 3",
   "language": "python",
   "name": "python3"
  },
  "language_info": {
   "codemirror_mode": {
    "name": "ipython",
    "version": 3
   },
   "file_extension": ".py",
   "mimetype": "text/x-python",
   "name": "python",
   "nbconvert_exporter": "python",
   "pygments_lexer": "ipython3",
   "version": "3.6.1"
  }
 },
 "nbformat": 4,
 "nbformat_minor": 2
}
