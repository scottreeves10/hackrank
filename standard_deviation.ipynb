{
 "cells": [
  {
   "cell_type": "markdown",
   "metadata": {},
   "source": [
    "## Explanation\n",
    "\n",
    "https://www.hackerrank.com/challenges/s10-standard-deviation/problem\n"
   ]
  },
  {
   "cell_type": "code",
   "execution_count": 55,
   "metadata": {},
   "outputs": [
    {
     "name": "stdout",
     "output_type": "stream",
     "text": [
      "14.1\n"
     ]
    }
   ],
   "source": [
    "# imports\n",
    "# -------\n",
    "import math\n",
    "\n",
    "# inputs\n",
    "# ------\n",
    "\n",
    "# int, denoting the number of elements in the array\n",
    "n = int(input()) \n",
    "\n",
    "# space-separated integers describing the respective elements of the array\n",
    "X = list(map(int,input().split())) \n",
    "\n",
    "\n",
    "# functions\n",
    "#---------\n",
    "\n",
    "def find_mean(array):\n",
    "    # (list of int) --> int\n",
    "    \n",
    "    # Return the mean. The mean is the sum total of the elements in the \n",
    "    # array divided by the number of elements.\n",
    "    \n",
    "    # >>> find_mean([10, 40, 30, 50, 20])\n",
    "    # 30.0\n",
    "    \n",
    "    total = 0\n",
    "    \n",
    "    for item in array:\n",
    "        total = total + item\n",
    "        \n",
    "        mean = (total / len(array))\n",
    "        \n",
    "    return mean\n",
    "\n",
    "def find_standard_deviation(array):\n",
    "    \n",
    "    #(int, list of int) --> int\n",
    "    \n",
    "    # Return the standard deviation, which is the summation of the squared \n",
    "    # distances of each element from the mean, and the sum then divided by\n",
    "    # the number of elements in the array\n",
    "    \n",
    "    #>>> find_standard_deviation(5, [10, 40, 30, 50, 20])\n",
    "    # 14.1\n",
    "    \n",
    "    mean = float(find_mean(array))\n",
    "        \n",
    "    squared_variance_total = 0\n",
    "    \n",
    "    for i in range(len(array)):\n",
    "        squared_variance = (mean-array[i])**2\n",
    "        squared_variance_total = squared_variance_total + squared_variance\n",
    "        \n",
    "    standard_deviation = math.sqrt((squared_variance_total / len(array)))\n",
    "    \n",
    "    return standard_deviation\n",
    "\n",
    "\n",
    "standard_deviation = find_standard_deviation(X) \n",
    "\n",
    "# output\n",
    "# ------\n",
    "\n",
    "print('%.1f' % standard_deviation)"
   ]
  }
 ],
 "metadata": {
  "kernelspec": {
   "display_name": "Python 3",
   "language": "python",
   "name": "python3"
  },
  "language_info": {
   "codemirror_mode": {
    "name": "ipython",
    "version": 3
   },
   "file_extension": ".py",
   "mimetype": "text/x-python",
   "name": "python",
   "nbconvert_exporter": "python",
   "pygments_lexer": "ipython3",
   "version": "3.6.1"
  }
 },
 "nbformat": 4,
 "nbformat_minor": 2
}
