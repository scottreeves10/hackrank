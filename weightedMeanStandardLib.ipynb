{
 "cells": [
  {
   "cell_type": "markdown",
   "metadata": {},
   "source": [
    "# Weighted Mean - With Standard Library\n",
    "\n",
    "## Task\n",
    "\n",
    "Given an array, X, of N integers and an array, W, representing the respective weights of X's elements, calculate and print the weighted mean of X's elements. The answer should be rounded to a scale of 1 decimal place (i.e., 12.3 format).\n",
    "\n",
    "## Input Format\n",
    "\n",
    "The first line contains an integer, N, denoting the number of elements in arrays X and W. \n",
    "The second line contains N space-separated integers describing the respective elements of array X. \n",
    "The third line contains N space-separated integers describing the respective elements of array W.\n",
    "\n",
    "## Constraints\n",
    "\n",
    "- N greater than or equal to 5, and less than or equal to 50\n",
    "- Respective elements of X greater than 0, and less than or equal to 100\n",
    "- Respective elements of W greater than 0, and less than or equal to 100\n",
    "\n",
    "## Output Format\n",
    "\n",
    "Print the weighted mean on a new line. The answer should be rounded to a scale of  decimal place (i.e., 12.3 format).\n",
    "\n",
    "## Sample input\n",
    "5\n",
    "\n",
    "10 40 30 50 20\n",
    "\n",
    "1 2 3 4 5\n",
    "\n",
    "\n",
    "## Sample Output\n",
    "32.0\n",
    "\n",
    "#### Weighted Mean\n",
    "The result of the summation of each data value times its weight, divided by the result of the summation of the weights themselves."
   ]
  },
  {
   "cell_type": "code",
   "execution_count": 20,
   "metadata": {},
   "outputs": [
    {
     "name": "stdout",
     "output_type": "stream",
     "text": [
      "5\n",
      "10 40 30 50 20\n",
      "1 2 3 4 5\n",
      "32.0\n"
     ]
    }
   ],
   "source": [
    "# inputs\n",
    "# ------\n",
    "\n",
    "N = int(input()) # synonymous with both len(X) and len(W)\n",
    "X = list(map(int,input().split()))\n",
    "W = list(map(int, input().split()))\n",
    "\n",
    "# functions\n",
    "# ---------\n",
    "\n",
    "def multiplyArrays(array1, array2):\n",
    "    # (list of int, list of int) --> list of int\n",
    "    \n",
    "    # Return a new list of int as the dot product of two equal length 1xn lists\n",
    "    \n",
    "    # >>> multiplyArrays([1, 2, 3], [4, 5, 6])\n",
    "    # [4,10,18]\n",
    "\n",
    "    if len(array1) == len(array2):\n",
    "        dot_product = []\n",
    "        for item in range(len(array1)):\n",
    "            dot_product.append(array1[item]*array2[item])\n",
    "        return dot_product\n",
    "    else:\n",
    "        print('The lengths of the lists passed as arguments are not equal to each other.')\n",
    "        \n",
    "# calculations\n",
    "# ------------\n",
    "\n",
    "dot_product = multiplyArrays(X,W)\n",
    "sum_of_dot_product = sum(dot_product)\n",
    "sum_of_weights = sum(W)\n",
    "weighted_mean = sum_of_dot_product / sum_of_weights\n",
    "\n",
    "# output\n",
    "# ------\n",
    "\n",
    "print(\"%.1f\" % weighted_mean)"
   ]
  },
  {
   "cell_type": "code",
   "execution_count": null,
   "metadata": {
    "collapsed": true
   },
   "outputs": [],
   "source": []
  }
 ],
 "metadata": {
  "kernelspec": {
   "display_name": "Python 3",
   "language": "python",
   "name": "python3"
  },
  "language_info": {
   "codemirror_mode": {
    "name": "ipython",
    "version": 3
   },
   "file_extension": ".py",
   "mimetype": "text/x-python",
   "name": "python",
   "nbconvert_exporter": "python",
   "pygments_lexer": "ipython3",
   "version": "3.6.1"
  }
 },
 "nbformat": 4,
 "nbformat_minor": 2
}
